{
 "cells": [
  {
   "cell_type": "code",
   "execution_count": 1,
   "id": "1bdf6f83",
   "metadata": {},
   "outputs": [
    {
     "name": "stdout",
     "output_type": "stream",
     "text": [
      "Distance: 0.0361 Km\n",
      "PathLoss: 68.9368 dB\n"
     ]
    }
   ],
   "source": [
    "import math\n",
    "\n",
    "# Given values\n",
    "fc = 1.8  # Frequency (GHz)\n",
    "hb = 20  # Height of the base station antenna (meters)\n",
    "d = math.sqrt(20 ** 2 + 30 ** 2) / 1000  # Distance between the base station and mobile station (kilometers)\n",
    "\n",
    "print('Distance: %.4f Km' % d)\n",
    "\n",
    "# Calculate path loss\n",
    "PathLoss = 135.41 + (12.49 * math.log10(fc)) - (4.99 * math.log10(hb)) + ((46.82 - 2.34 * math.log10(hb)) * math.log10(d))\n",
    "\n",
    "print('PathLoss: %.4f dB' % PathLoss)"
   ]
  },
  {
   "cell_type": "code",
   "execution_count": null,
   "id": "1315e4f7",
   "metadata": {},
   "outputs": [],
   "source": []
  }
 ],
 "metadata": {
  "kernelspec": {
   "display_name": "Python 3 (ipykernel)",
   "language": "python",
   "name": "python3"
  },
  "language_info": {
   "codemirror_mode": {
    "name": "ipython",
    "version": 3
   },
   "file_extension": ".py",
   "mimetype": "text/x-python",
   "name": "python",
   "nbconvert_exporter": "python",
   "pygments_lexer": "ipython3",
   "version": "3.11.5"
  }
 },
 "nbformat": 4,
 "nbformat_minor": 5
}
