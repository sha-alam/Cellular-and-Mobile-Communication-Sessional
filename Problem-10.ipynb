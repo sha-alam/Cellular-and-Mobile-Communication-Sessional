{
 "cells": [
  {
   "cell_type": "code",
   "execution_count": 1,
   "id": "45cb1c18",
   "metadata": {},
   "outputs": [
    {
     "name": "stdout",
     "output_type": "stream",
     "text": [
      "Number of channel per cell: 15\n",
      "Area Covered per cell is: 5 sq km\n",
      "(a) Number of users: 62\n",
      "(b)\n",
      "Holding time: 104.40 seconds\n",
      "Probability to wait: 56.29 %\n",
      "(c) Probability of delay 2.81  %\n"
     ]
    }
   ],
   "source": [
    "import math\n",
    "\n",
    "# Given values\n",
    "radius = 1.387\n",
    "cluster = 4\n",
    "total_channel = 60\n",
    "channel_per_cell = total_channel / cluster\n",
    "each_cell_covers = math.ceil(2.5981 * (radius ** 2))\n",
    "traffic_per_user = 0.029\n",
    "t = 10\n",
    "blocking_probability = 5 / 100\n",
    "\n",
    "# extra\n",
    "print('Number of channel per cell: %d' % channel_per_cell)\n",
    "print('Area Covered per cell is: %d sq km' % each_cell_covers)\n",
    "\n",
    "traffic_intensity = 9\n",
    "no_of_user = math.floor(traffic_intensity / (traffic_per_user * each_cell_covers))\n",
    "print(f'(a) Number of users: {no_of_user}')\n",
    "\n",
    "print('(b)')\n",
    "lembda = 1  # Au = lembda/H_holding time\n",
    "holding_time = (traffic_per_user / lembda) * 60 * 60\n",
    "print('Holding time: %.2f seconds' % holding_time)\n",
    "probability_to_wait = math.exp(-(channel_per_cell - traffic_intensity) * t / holding_time) * 100\n",
    "print(f'Probability to wait: %.2f' % probability_to_wait, '%')\n",
    "\n",
    "probability_of_delay = blocking_probability * probability_to_wait\n",
    "print(f'(c) Probability of delay %.2f ' % probability_of_delay, '%')"
   ]
  },
  {
   "cell_type": "code",
   "execution_count": null,
   "id": "80d44276",
   "metadata": {},
   "outputs": [],
   "source": []
  }
 ],
 "metadata": {
  "kernelspec": {
   "display_name": "Python 3 (ipykernel)",
   "language": "python",
   "name": "python3"
  },
  "language_info": {
   "codemirror_mode": {
    "name": "ipython",
    "version": 3
   },
   "file_extension": ".py",
   "mimetype": "text/x-python",
   "name": "python",
   "nbconvert_exporter": "python",
   "pygments_lexer": "ipython3",
   "version": "3.11.5"
  }
 },
 "nbformat": 4,
 "nbformat_minor": 5
}
