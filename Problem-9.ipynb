{
 "cells": [
  {
   "cell_type": "code",
   "execution_count": null,
   "id": "61b669e2",
   "metadata": {},
   "outputs": [],
   "source": [
    "import math\n",
    "\n",
    "# Given values\n",
    "T_R_distance = 5  # Distance between transmitter and receiver in km\n",
    "E_field = 1e-3  # Electric field in V/m\n",
    "f = 900  # Frequency in MHz\n",
    "d0 = 1000  # Distance for electric field measurement in meters\n",
    "c = 3e8  # Speed of light in m/s\n",
    "\n",
    "# Converting frequency to Hz\n",
    "f *= 1e6\n",
    "\n",
    "# Calculating wavelength\n",
    "lamda = c / f\n",
    "\n",
    "# Height of transmitting and receiving antennas\n",
    "ht = 50  # in meters\n",
    "hr = 1.5  # in meters\n",
    "\n",
    "# Distance from transmitter to receiver\n",
    "d = T_R_distance * 1000  # in meters\n",
    "\n",
    "# a\n",
    "length_of_antenna = lamda / 4\n",
    "gain = 10 ** (2.55 / 10)\n",
    "gain_rcv = 10 * math.log10(gain)\n",
    "print('Gain of Receiving Gain: %.2f dB' % gain_rcv)\n",
    "effective_aperture = (gain * (lamda ** 2)) / (4 * 3.1416)\n",
    "# print('Effective aperture is', effective_aperture)\n",
    "\n",
    "# b\n",
    "Er_d = (2 * E_field * d0 * 2 * 3.1416 * ht * hr) / (lamda * d ** 2)\n",
    "print('Electric Field {:e} V/m'.format(Er_d))\n",
    "\n",
    "pr_d = ((Er_d ** 2) / (120 * 3.1416)) * effective_aperture\n",
    "received_power_at_5km_distance = 10 * math.log10(pr_d)\n",
    "print('Received power at distance in dBW', received_power_at_5km_distance)\n",
    "\n",
    "received_power2 = 10 * math.log10(pr_d * 1000)\n",
    "print('Received power at distance in dBm', received_power2)"
   ]
  }
 ],
 "metadata": {
  "kernelspec": {
   "display_name": "Python 3 (ipykernel)",
   "language": "python",
   "name": "python3"
  },
  "language_info": {
   "codemirror_mode": {
    "name": "ipython",
    "version": 3
   },
   "file_extension": ".py",
   "mimetype": "text/x-python",
   "name": "python",
   "nbconvert_exporter": "python",
   "pygments_lexer": "ipython3",
   "version": "3.11.5"
  }
 },
 "nbformat": 4,
 "nbformat_minor": 5
}
