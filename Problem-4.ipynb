{
 "cells": [
  {
   "cell_type": "code",
   "execution_count": 1,
   "id": "fe2fa074",
   "metadata": {},
   "outputs": [
    {
     "name": "stdout",
     "output_type": "stream",
     "text": [
      "For system A:\n",
      "Number of users in System A: 120.0\n",
      "Total number of subscriber in system A: 47280.0\n",
      "Percentage market penetration for A: 2.3640000000000003\n",
      "\n",
      "For system B:\n",
      "Number of users in System B: 450.0\n",
      "Total number of subscriber in system B: 44100.0\n",
      "Percentage market penetration for B: 2.205\n",
      "\n",
      "For system C:\n",
      "Number of users in System C: 880.0\n",
      "Total number of subscriber in system C: 43120.0\n",
      "Percentage market penetration for C: 2.156\n",
      "\n",
      "Total number of subscribers for all three systems: 134500.0\n",
      "Market penetration for all three systems: 6.7250000000000005\n"
     ]
    }
   ],
   "source": [
    "blocking_p = 2 / 100\n",
    "lamda = 2\n",
    "H = 3 / 60\n",
    "Au = lamda * H\n",
    "\n",
    "# System A\n",
    "channel_a = 19\n",
    "cell_A = 394\n",
    "A = 12\n",
    "Ua = A / Au\n",
    "subscriber_A = Ua * cell_A\n",
    "percentage_market_penetration_for_A = (subscriber_A / 2000000) * 100\n",
    "\n",
    "# System B\n",
    "channel_b = 57\n",
    "cell_B = 98\n",
    "Ab = 45\n",
    "Ub = Ab / Au\n",
    "subscriber_B = Ub * cell_B\n",
    "percentage_market_penetration_for_B = (subscriber_B / 2000000) * 100\n",
    "\n",
    "# System C\n",
    "channel_c = 100\n",
    "cell_C = 49\n",
    "Ac = 88\n",
    "Uc = Ac / Au\n",
    "subscriber_C = Uc * cell_C\n",
    "percentage_market_penetration_for_C = (subscriber_C / 2000000) * 100\n",
    "\n",
    "Total_number_of_subscriber = subscriber_A + subscriber_B + subscriber_C\n",
    "Market_penetration_for_three_system = (Total_number_of_subscriber / 2000000) * 100\n",
    "\n",
    "print(\"For system A:\")\n",
    "print(\"Number of users in System A:\", Ua)\n",
    "print(\"Total number of subscriber in system A:\", subscriber_A)\n",
    "print(\"Percentage market penetration for A:\", percentage_market_penetration_for_A)\n",
    "\n",
    "print(\"\\nFor system B:\")\n",
    "print(\"Number of users in System B:\", Ub)\n",
    "print(\"Total number of subscriber in system B:\", subscriber_B)\n",
    "print(\"Percentage market penetration for B:\", percentage_market_penetration_for_B)\n",
    "\n",
    "print(\"\\nFor system C:\")\n",
    "print(\"Number of users in System C:\", Uc)\n",
    "print(\"Total number of subscriber in system C:\", subscriber_C)\n",
    "print(\"Percentage market penetration for C:\", percentage_market_penetration_for_C)\n",
    "\n",
    "print(\"\\nTotal number of subscribers for all three systems:\", Total_number_of_subscriber)\n",
    "print(\"Market penetration for all three systems:\", Market_penetration_for_three_system)"
   ]
  },
  {
   "cell_type": "code",
   "execution_count": null,
   "id": "89838c17",
   "metadata": {},
   "outputs": [],
   "source": []
  }
 ],
 "metadata": {
  "kernelspec": {
   "display_name": "Python 3 (ipykernel)",
   "language": "python",
   "name": "python3"
  },
  "language_info": {
   "codemirror_mode": {
    "name": "ipython",
    "version": 3
   },
   "file_extension": ".py",
   "mimetype": "text/x-python",
   "name": "python",
   "nbconvert_exporter": "python",
   "pygments_lexer": "ipython3",
   "version": "3.11.5"
  }
 },
 "nbformat": 4,
 "nbformat_minor": 5
}
