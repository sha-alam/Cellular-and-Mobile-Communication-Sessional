{
 "cells": [
  {
   "cell_type": "code",
   "execution_count": 1,
   "id": "3457f533",
   "metadata": {},
   "outputs": [
    {
     "name": "stdout",
     "output_type": "stream",
     "text": [
      "Blocking probability\n",
      "0.005\n",
      "Traffic intensity per user \n",
      "0.1\n",
      "Traffic intensity\n",
      "[0.005, 1.13, 3.96, 11.1, 80.9]\n",
      "Channel\n",
      "[1, 5, 10, 20, 100]\n",
      "Number of users\n",
      "[0, 11, 40, 111, 809]\n"
     ]
    }
   ],
   "source": [
    "Gos = 0.5 / 100\n",
    "Au = 0.1\n",
    "# from table\n",
    "A = [0.005, 1.13, 3.96, 11.1, 80.9]\n",
    "c = [1, 5, 10, 20, 100]\n",
    "\n",
    "# Display information\n",
    "print('Blocking probability')\n",
    "print(Gos)\n",
    "print('Traffic intensity per user ')\n",
    "print(Au)\n",
    "print('Traffic intensity')\n",
    "print(A)\n",
    "print('Channel')\n",
    "print(c)\n",
    "\n",
    "# Calculate number of users\n",
    "U = [a / Au for a in A]\n",
    "u = [round(u_val) for u_val in U]\n",
    "\n",
    "# Display number of users\n",
    "print('Number of users')\n",
    "print(u)"
   ]
  },
  {
   "cell_type": "code",
   "execution_count": null,
   "id": "79b80967",
   "metadata": {},
   "outputs": [],
   "source": []
  }
 ],
 "metadata": {
  "kernelspec": {
   "display_name": "Python 3 (ipykernel)",
   "language": "python",
   "name": "python3"
  },
  "language_info": {
   "codemirror_mode": {
    "name": "ipython",
    "version": 3
   },
   "file_extension": ".py",
   "mimetype": "text/x-python",
   "name": "python",
   "nbconvert_exporter": "python",
   "pygments_lexer": "ipython3",
   "version": "3.11.5"
  }
 },
 "nbformat": 4,
 "nbformat_minor": 5
}
