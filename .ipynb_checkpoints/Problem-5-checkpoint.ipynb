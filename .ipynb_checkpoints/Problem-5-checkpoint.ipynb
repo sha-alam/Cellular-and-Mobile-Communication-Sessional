{
 "cells": [
  {
   "cell_type": "code",
   "execution_count": 1,
   "id": "9de1c4c9",
   "metadata": {},
   "outputs": [
    {
     "name": "stdout",
     "output_type": "stream",
     "text": [
      "(a)\n",
      "Number of cells: 31\n",
      "(b)\n",
      "Number of channels per cell: 95\n",
      "(c)\n",
      "Traffic intensity per cell: 83.13\n",
      "(d)\n",
      "Maximum carried traffic: 2577.0299999999997\n",
      "(e)\n",
      "Total number of users: 85901.0\n",
      "(f)\n",
      "Number of mobiles per channel: 129\n",
      "(g)\n",
      "Theoretical maximum number of users that could be served: 2945\n"
     ]
    }
   ],
   "source": [
    "import math\n",
    "\n",
    "# Given values\n",
    "area = 1300\n",
    "radius = 4\n",
    "each_cell_covers = math.floor(2.5981 * radius ** 2)  # in square kilometers\n",
    "print('(a)')\n",
    "number_of_cells = math.floor(area / each_cell_covers)\n",
    "print(\"Number of cells:\", number_of_cells)\n",
    "\n",
    "# (b)\n",
    "allocated_spectrum = 40000\n",
    "channel_width = 60\n",
    "frequency_reuse_factor = 7\n",
    "print('(b)')\n",
    "number_of_channel_per_cell = math.floor(allocated_spectrum / (channel_width * frequency_reuse_factor))\n",
    "print(\"Number of channels per cell:\", number_of_channel_per_cell)\n",
    "\n",
    "# (c)\n",
    "print('(c)')\n",
    "traffic_intensity_per_cell = 83.13  # from erlang chart B\n",
    "print(\"Traffic intensity per cell:\", traffic_intensity_per_cell)\n",
    "\n",
    "# (d)\n",
    "print('(d)')\n",
    "maximum_carried_traffic = number_of_cells * traffic_intensity_per_cell\n",
    "print(\"Maximum carried traffic:\", maximum_carried_traffic)\n",
    "\n",
    "# (e)\n",
    "traffic_per_user = 0.03\n",
    "print('(e)')\n",
    "total_number_of_user = maximum_carried_traffic / traffic_per_user\n",
    "print(\"Total number of users:\", total_number_of_user)\n",
    "\n",
    "# (f)\n",
    "number_of_channels = number_of_channel_per_cell * frequency_reuse_factor\n",
    "print('(f)')\n",
    "number_of_mobile_per_channel = math.floor(total_number_of_user / number_of_channels)\n",
    "print(\"Number of mobiles per channel:\", number_of_mobile_per_channel)\n",
    "\n",
    "# (g)\n",
    "print('(g)')\n",
    "theoretical_maximum_number_of_user_that_could_be_served = number_of_cells * number_of_channel_per_cell\n",
    "print(\"Theoretical maximum number of users that could be served:\",\n",
    "      theoretical_maximum_number_of_user_that_could_be_served)"
   ]
  },
  {
   "cell_type": "code",
   "execution_count": null,
   "id": "e53762c5",
   "metadata": {},
   "outputs": [],
   "source": []
  }
 ],
 "metadata": {
  "kernelspec": {
   "display_name": "Python 3 (ipykernel)",
   "language": "python",
   "name": "python3"
  },
  "language_info": {
   "codemirror_mode": {
    "name": "ipython",
    "version": 3
   },
   "file_extension": ".py",
   "mimetype": "text/x-python",
   "name": "python",
   "nbconvert_exporter": "python",
   "pygments_lexer": "ipython3",
   "version": "3.11.5"
  }
 },
 "nbformat": 4,
 "nbformat_minor": 5
}
