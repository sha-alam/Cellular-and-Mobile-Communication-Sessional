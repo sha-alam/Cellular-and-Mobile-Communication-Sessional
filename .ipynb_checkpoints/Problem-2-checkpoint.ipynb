{
 "cells": [
  {
   "cell_type": "code",
   "execution_count": 1,
   "id": "e92174de",
   "metadata": {},
   "outputs": [
    {
     "name": "stdout",
     "output_type": "stream",
     "text": [
      "For n = 4:\n",
      "Frequency reuse factor (Q): 4.58257569495584\n",
      "Signal to interference ratio (SI): 18.66287339084195 dB\n",
      "\n",
      "For n = 3:\n",
      "Frequency reuse factor (Q): 4.58257569495584\n",
      "Signal to interference ratio (SI): 12.051776917172353 dB\n",
      "Adjusting parameters:\n",
      "New Frequency reuse factor (Q): 6.0\n",
      "New Signal to interference ratio (SI): 15.563025007672874 dB\n",
      "\n"
     ]
    }
   ],
   "source": [
    "import math\n",
    "\n",
    "\n",
    "def calculate_frequency_reuse_factor(N):\n",
    "    Q = math.sqrt(3 * N)\n",
    "    return Q\n",
    "\n",
    "\n",
    "def calculate_SIR(io, n, Q):\n",
    "    SI = 10 * math.log10((1 / io) * (Q ** n))\n",
    "    return SI\n",
    "\n",
    "\n",
    "def find_optimal_parameters(R_SI, io, N):\n",
    "    for n in [4, 3]:\n",
    "        Q = calculate_frequency_reuse_factor(N)\n",
    "        SI = calculate_SIR(io, n, Q)\n",
    "        print(f\"For n = {n}:\")\n",
    "        print(f\"Frequency reuse factor (Q): {Q}\")\n",
    "        print(f\"Signal to interference ratio (SI): {SI} dB\")\n",
    "\n",
    "        if SI < R_SI:\n",
    "            # Adjusting parameters\n",
    "            i = 2\n",
    "            j = 2\n",
    "            N = i ** 2 + i * j + j ** 2\n",
    "            Q = calculate_frequency_reuse_factor(N)\n",
    "            SI = calculate_SIR(io, n, Q)\n",
    "            print(\"Adjusting parameters:\")\n",
    "            print(f\"New Frequency reuse factor (Q): {Q}\")\n",
    "            print(f\"New Signal to interference ratio (SI): {SI} dB\")\n",
    "        print()\n",
    "\n",
    "\n",
    "# Given parameters\n",
    "R_SI = 15  # Required signal to interference ratio (dB)\n",
    "io = 6  # Path loss exponent\n",
    "\n",
    "# Finding optimal parameters\n",
    "find_optimal_parameters(R_SI, io, 7)"
   ]
  },
  {
   "cell_type": "code",
   "execution_count": null,
   "id": "30ed9acc",
   "metadata": {},
   "outputs": [],
   "source": []
  }
 ],
 "metadata": {
  "kernelspec": {
   "display_name": "Python 3 (ipykernel)",
   "language": "python",
   "name": "python3"
  },
  "language_info": {
   "codemirror_mode": {
    "name": "ipython",
    "version": 3
   },
   "file_extension": ".py",
   "mimetype": "text/x-python",
   "name": "python",
   "nbconvert_exporter": "python",
   "pygments_lexer": "ipython3",
   "version": "3.11.5"
  }
 },
 "nbformat": 4,
 "nbformat_minor": 5
}
